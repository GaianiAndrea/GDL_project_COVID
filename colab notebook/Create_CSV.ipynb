{
  "cells": [
    {
      "cell_type": "code",
      "execution_count": 1,
      "metadata": {
        "id": "AC9HM_Bw-KDB"
      },
      "outputs": [],
      "source": [
        "# Import libraries\n",
        "import pandas as pd\n",
        "import numpy as np"
      ]
    },
    {
      "cell_type": "code",
      "execution_count": null,
      "metadata": {
        "id": "u4Gjhw5vEDVu"
      },
      "outputs": [],
      "source": [
        "# Make the union of two dictionary without duplicates\n",
        "def union_dict(d1, d2):\n",
        "  union = d1.copy()\n",
        "  for i in d1:\n",
        "    for j in d2:\n",
        "      if i == j:\n",
        "        union[i] = list(set(d1[i] + d2[j]))\n",
        "        break\n",
        "  return union"
      ]
    },
    {
      "cell_type": "markdown",
      "metadata": {
        "id": "-7ZLJR_ITdFp"
      },
      "source": [
        "## Adjacency matrix"
      ]
    },
    {
      "cell_type": "code",
      "execution_count": 2,
      "metadata": {
        "id": "xzK1MwVyTmeq"
      },
      "outputs": [],
      "source": [
        "# import dataset\n",
        "adj_county = pd.read_csv ('county_adjacency2010.csv')\n",
        "county_dist = pd.read_csv ('sf12010countydistance50miles.csv')\n",
        "air_mobility = pd.read_csv('air_mobility.csv')"
      ]
    },
    {
      "cell_type": "code",
      "execution_count": null,
      "metadata": {
        "id": "zzhhtt31TozP"
      },
      "outputs": [],
      "source": [
        "# Create dictionary with adjacency county\n",
        "county_dict = {}\n",
        "for index, row in adj_county.iterrows():\n",
        "  if row['fipscounty'] not in county_dict:\n",
        "    county_dict[row['fipscounty']] = [int(row['fipsneighbor'])]\n",
        "  else:\n",
        "    county_dict[row['fipscounty']].append(int(row['fipsneighbor']))\n",
        "\n",
        "for i in county_dict:\n",
        "  county_dict[i].remove(i)\n",
        "\n",
        "# Create dictionary with county with a maximum distance of 50 miles\n",
        "dist_county_dict = {}\n",
        "for index, row in county_dist.iterrows():\n",
        "  if row['county1'] not in dist_county_dict:\n",
        "    dist_county_dict[row['county1']] = [int(row['county2'])]\n",
        "  else:\n",
        "    dist_county_dict[row['county1']].append(int(row['county2']))\n",
        "\n",
        "air = {}\n",
        "for index, row in air_mobility.iterrows():\n",
        "  if row['dest_fips'] not in air:\n",
        "    air[row['dest_fips']] = [int(row['origin_fips'])]\n",
        "  else:\n",
        "    air[row['dest_fips']].append(int(row['origin_fips']))"
      ]
    },
    {
      "cell_type": "code",
      "execution_count": null,
      "metadata": {
        "id": "V__J9TkITt1J"
      },
      "outputs": [],
      "source": [
        "# Make the union with the three dictionaries\n",
        "adj_dict = union_dict(county_dict, dist_county_dict)\n",
        "adj_dict = union_dict(adj_dict, air)"
      ]
    },
    {
      "cell_type": "code",
      "execution_count": null,
      "metadata": {
        "id": "SKhhb8_yEjKo"
      },
      "outputs": [],
      "source": [
        "# Create the adjacency matrix\n",
        "adj = np.zeros((len(adj_dict), len(adj_dict)))\n",
        "# Create a list containing all the fips of all county\n",
        "list_keys = list(adj_dict.keys())\n",
        "\n",
        "# Fill the adjacency matrix with 1 if the the two counties are adjacent or have a distance lower of 50 miles\n",
        "for i in range(len(list_keys)):\n",
        "  for j in range(len(list_keys)):\n",
        "    if list_keys[j] in adj_dict[list_keys[i]]:\n",
        "      adj[i][j] = 1"
      ]
    },
    {
      "cell_type": "code",
      "execution_count": null,
      "metadata": {
        "id": "PoEmZvayIUiR"
      },
      "outputs": [],
      "source": [
        "# Convert adjacency matrix to a dataframe\n",
        "adj_df = pd.DataFrame(adj, columns = list_keys)\n",
        "# Insert a new column with the fips of counties\n",
        "adj_df.insert(0, \"--\", list_keys, allow_duplicates=True)\n",
        "adj_df.set_index('--', inplace=True)\n",
        "# Export\n",
        "adj_df.to_csv('adjacency_matrix.csv', index=False)"
      ]
    },
    {
      "cell_type": "markdown",
      "metadata": {
        "id": "eLeNY_9EUV-V"
      },
      "source": [
        "## Vaccination dataset"
      ]
    },
    {
      "cell_type": "code",
      "execution_count": null,
      "metadata": {
        "colab": {
          "base_uri": "https://localhost:8080/"
        },
        "id": "NRSK9rQFrxWt",
        "outputId": "433f1452-9513-463a-bbff-0a40f004ebdb"
      },
      "outputs": [
        {
          "name": "stderr",
          "output_type": "stream",
          "text": [
            "/usr/local/lib/python3.7/dist-packages/IPython/core/interactiveshell.py:2882: DtypeWarning: Columns (1) have mixed types.Specify dtype option on import or set low_memory=False.\n",
            "  exec(code_obj, self.user_global_ns, self.user_ns)\n"
          ]
        }
      ],
      "source": [
        "# import dataset\n",
        "vaccination = pd.read_csv ('COVID-19_Vaccinations_in_the_United_States_County.csv')\n",
        "# remove useless column\n",
        "vaccination.drop(['MMWR_week','Administered_Dose1_Recip','Administered_Dose1_Pop_Pct', 'Administered_Dose1_Recip_5Plus',\n",
        "       'Administered_Dose1_Recip_5PlusPop_Pct','Administered_Dose1_Recip_12Plus','Administered_Dose1_Recip_12PlusPop_Pct',\n",
        "       'Administered_Dose1_Recip_18Plus','Administered_Dose1_Recip_18PlusPop_Pct','Administered_Dose1_Recip_65Plus',\n",
        "       'Administered_Dose1_Recip_65PlusPop_Pct', 'Series_Complete_Yes','Series_Complete_Pop_Pct', 'Series_Complete_5Plus',\n",
        "       'Series_Complete_5PlusPop_Pct', 'Series_Complete_5to17','Series_Complete_5to17Pop_Pct', 'Series_Complete_12Plus',\n",
        "       'Series_Complete_12PlusPop_Pct', 'Series_Complete_18Plus','Series_Complete_18PlusPop_Pct', 'Series_Complete_65Plus',\n",
        "       'Series_Complete_65PlusPop_Pct', 'Booster_Doses','Booster_Doses_Vax_Pct', 'Booster_Doses_12Plus',\n",
        "       'Booster_Doses_12Plus_Vax_Pct', 'Booster_Doses_18Plus','Booster_Doses_18Plus_Vax_Pct', 'Booster_Doses_50Plus',\n",
        "       'Booster_Doses_50Plus_Vax_Pct', 'Booster_Doses_65Plus','Booster_Doses_65Plus_Vax_Pct', 'SVI_CTGY',\n",
        "       'Series_Complete_Pop_Pct_SVI', 'Series_Complete_5PlusPop_Pct_SVI','Series_Complete_5to17Pop_Pct_SVI', 'Series_Complete_12PlusPop_Pct_SVI',\n",
        "       'Series_Complete_18PlusPop_Pct_SVI','Series_Complete_65PlusPop_Pct_SVI', 'Metro_status','Series_Complete_Pop_Pct_UR_Equity',\n",
        "       'Series_Complete_5PlusPop_Pct_UR_Equity','Series_Complete_5to17Pop_Pct_UR_Equity','Series_Complete_12PlusPop_Pct_UR_Equity',\n",
        "       'Series_Complete_18PlusPop_Pct_UR_Equity','Series_Complete_65PlusPop_Pct_UR_Equity', 'Booster_Doses_Vax_Pct_SVI',\n",
        "       'Booster_Doses_12PlusVax_Pct_SVI', 'Booster_Doses_18PlusVax_Pct_SVI','Booster_Doses_65PlusVax_Pct_SVI', 'Booster_Doses_Vax_Pct_UR_Equity',\n",
        "       'Booster_Doses_12PlusVax_Pct_UR_Equity','Booster_Doses_18PlusVax_Pct_UR_Equity','Booster_Doses_65PlusVax_Pct_UR_Equity','Census2019_5PlusPop', \n",
        "       'Census2019_5to17Pop', 'Census2019_12PlusPop','Census2019_18PlusPop', 'Census2019_65PlusPop'], inplace=True, axis=1)\n",
        "# Export dataframe\n",
        "vaccination.to_csv('vaccination_per_county.csv', index=False)"
      ]
    },
    {
      "cell_type": "markdown",
      "metadata": {
        "id": "kPzyrNddU505"
      },
      "source": [
        "## Population and Percentage of Vaccination"
      ]
    },
    {
      "cell_type": "code",
      "execution_count": null,
      "metadata": {
        "id": "VjmDISRws0Xg"
      },
      "outputs": [],
      "source": [
        "census = pd.read_csv ('vaccination_per_county.csv')\n",
        "\n",
        "last_index = census.loc[census['Date'] == '04/12/2022'].index\n",
        "index_to_remove = np.arange(0, last_index[-1] + 1, 1)\n",
        "census.drop(index_to_remove, axis=0, inplace=True)\n",
        "\n",
        "for i in range(2020, 2023):\n",
        "  for j in range(1, 13):\n",
        "    if i == 2022 and j >= 5:\n",
        "      break\n",
        "    for k in range(1, 32):\n",
        "      day = str(k)\n",
        "      month = str(j)\n",
        "      year = str(i)\n",
        "      if len(day) == 1:\n",
        "        day = '0'+ day\n",
        "      if len(month) == 1:\n",
        "        month = '0' + month\n",
        "      old_date = month + '/' + day + '/' + year\n",
        "      new_date = year + '-' + month + '-' + day\n",
        "      index_to_change = census.loc[census['Date'] == old_date].index\n",
        "      if len(index_to_change) > 0:\n",
        "        census.loc[index_to_change, 'Date'] = new_date\n",
        "\n",
        "census.to_csv('vaccination_per_county.csv', index=False)"
      ]
    },
    {
      "cell_type": "code",
      "execution_count": null,
      "metadata": {
        "id": "7GnbE58fUGWP"
      },
      "outputs": [],
      "source": [
        "census2022 = census.iloc[:331580]\n",
        "census2021 = census.iloc[331580:1529581]\n",
        "census2020 = census.iloc[1529581:]\n",
        "\n",
        "census2022.to_csv('vaccination_per_county_2022.csv', index=False)\n",
        "census2021.to_csv('vaccination_per_county_2021.csv', index=False)\n",
        "census2020.to_csv('vaccination_per_county_2020.csv', index=False)"
      ]
    },
    {
      "cell_type": "code",
      "execution_count": 6,
      "metadata": {
        "id": "KcJ-RCO_JybE"
      },
      "outputs": [],
      "source": [
        "population = {}\n",
        "vax_22 = {}\n",
        "vax_21 = {}\n",
        "vax_20 = {}\n",
        "\n",
        "for index, row in census2022.iterrows():\n",
        "  if row['FIPS'] == 'UNK':\n",
        "    continue\n",
        "  if int(row['FIPS']) not in population:\n",
        "    population[int(row['FIPS'])] = row['Census2019']\n",
        "\n",
        "  if int(row['FIPS']) not in vax_22:\n",
        "    vax_22[int(row['FIPS'])] = [(row['Date'], row['Completeness_pct'])]\n",
        "  else:\n",
        "    vax_22[int(row['FIPS'])].append((row['Date'], row['Completeness_pct']))\n",
        "\n",
        "for index, row in census2021.iterrows():\n",
        "  if row['FIPS'] == 'UNK':\n",
        "    continue\n",
        "\n",
        "  if int(row['FIPS']) not in vax_21:\n",
        "    vax_21[int(row['FIPS'])] = [(row['Date'], row['Completeness_pct'])]\n",
        "  else:\n",
        "    vax_21[int(row['FIPS'])].append((row['Date'], row['Completeness_pct']))\n",
        "\n",
        "for index, row in census2020.iterrows():\n",
        "  if row['FIPS'] == 'UNK':\n",
        "    continue\n",
        "\n",
        "  if int(row['FIPS']) not in vax_20:\n",
        "    vax_20[int(row['FIPS'])] = [(row['Date'], row['Completeness_pct'])]\n",
        "  else:\n",
        "    vax_20[int(row['FIPS'])].append((row['Date'], row['Completeness_pct']))"
      ]
    },
    {
      "cell_type": "code",
      "execution_count": null,
      "metadata": {
        "id": "IEbuolRWVdtp"
      },
      "outputs": [],
      "source": [
        "population = dict(sorted(population.items()))\n",
        "keys_population = list(population.keys())\n",
        "values_population = list(population.values())\n",
        "population_df = pd.DataFrame({'FIPS': keys_population, '# Population': values_population})\n",
        "population_df.to_csv('population.csv', index=False)"
      ]
    },
    {
      "cell_type": "markdown",
      "metadata": {
        "id": "DLmCNA2gZxe6"
      },
      "source": [
        "## Dataset with all information per day"
      ]
    },
    {
      "cell_type": "code",
      "execution_count": null,
      "metadata": {
        "id": "mgEatvtgZ090"
      },
      "outputs": [],
      "source": [
        "# data - fips - # cases - # death - pct vaccination - population"
      ]
    },
    {
      "cell_type": "code",
      "execution_count": 3,
      "metadata": {
        "id": "VWOtWwg2fem7"
      },
      "outputs": [],
      "source": [
        "data_22 = pd.read_csv ('us-counties-2022.csv')\n",
        "data_21 = pd.read_csv ('us-counties-2021.csv')\n",
        "data_20 = pd.read_csv ('us-counties-2020.csv')\n",
        "\n",
        "census2022 = pd.read_csv ('vaccination_per_county_2022.csv')\n",
        "census2021 = pd.read_csv ('vaccination_per_county_2021.csv')\n",
        "census2020 = pd.read_csv ('vaccination_per_county_2020.csv')"
      ]
    },
    {
      "cell_type": "code",
      "execution_count": 5,
      "metadata": {
        "id": "S5LdFXlQxTzJ"
      },
      "outputs": [],
      "source": [
        "cases_deaths_22 = {}\n",
        "for index, row in data_22.iterrows():\n",
        "  if np.isnan(row['fips']):\n",
        "    continue\n",
        "  if int(row['fips']) not in cases_deaths_22:\n",
        "    cases_deaths_22[int(row['fips'])] = [(row['date'], row['cases'], row['deaths'])]\n",
        "  else:\n",
        "    cases_deaths_22[int(row['fips'])].append((row['date'], row['cases'], row['deaths']))\n",
        "\n",
        "\n",
        "cases_deaths_21 = {}\n",
        "for index, row in data_21.iterrows():\n",
        "  if np.isnan(row['fips']):\n",
        "    continue\n",
        "  if int(row['fips']) not in cases_deaths_21:\n",
        "    cases_deaths_21[int(row['fips'])] = [(row['date'], row['cases'], row['deaths'])]\n",
        "  else:\n",
        "    cases_deaths_21[int(row['fips'])].append((row['date'], row['cases'], row['deaths']))\n",
        "\n",
        "\n",
        "cases_deaths_20 = {}\n",
        "for index, row in data_20.iterrows():\n",
        "  if np.isnan(row['fips']):\n",
        "    continue\n",
        "  if int(row['fips']) not in cases_deaths_20:\n",
        "    cases_deaths_20[int(row['fips'])] = [(row['date'], row['cases'], row['deaths'])]\n",
        "  else:\n",
        "    cases_deaths_20[int(row['fips'])].append((row['date'], row['cases'], row['deaths']))"
      ]
    },
    {
      "cell_type": "code",
      "execution_count": 91,
      "metadata": {
        "id": "WQpUN2q70-pb"
      },
      "outputs": [],
      "source": [
        "final_array_2020 = []\n",
        "date_2020 = []\n",
        "fips_2020 = []\n",
        "cases_2020 = []\n",
        "death_2020 = []\n",
        "vax_2020 = []\n",
        "pop_2020 = []\n",
        "\n",
        "cd_keys = cases_deaths_20.keys()\n",
        "for i in cd_keys:\n",
        "  for j in range(len(cases_deaths_20[i])):\n",
        "    if i in population:\n",
        "      pop = population[i]\n",
        "    else:\n",
        "      pop = 0\n",
        "    \n",
        "    date = cases_deaths_20[i][j][0]\n",
        "    cases = cases_deaths_20[i][j][1]\n",
        "    death = cases_deaths_20[i][j][2]\n",
        "    fips = i\n",
        "\n",
        "    v = 0\n",
        "\n",
        "    if i in vax_20:\n",
        "      vax_fips = vax_20[i]\n",
        "      for k in range(len(vax_fips)):\n",
        "        if vax_fips[k][0] == date:\n",
        "          v = vax_fips[k][1]\n",
        "          break\n",
        "\n",
        "    # final_array_2020.append([date, fips, cases, death, v, pop])\n",
        "    date_2020.append(date)\n",
        "    fips_2020.append(fips)\n",
        "    cases_2020.append(cases)\n",
        "    death_2020.append(death)\n",
        "    vax_2020.append(v)\n",
        "    pop_2020.append(pop)\n",
        "\n",
        "final_df_2020 = pd.DataFrame({'Date': date_2020, 'FIPS': fips_2020, \n",
        "                              'Cases': cases_2020, 'Death': death_2020, \n",
        "                              'Vaccination': vax_2020, 'Population': pop_2020})"
      ]
    },
    {
      "cell_type": "code",
      "execution_count": 92,
      "metadata": {
        "id": "4bZlKbga1-h5"
      },
      "outputs": [],
      "source": [
        "final_array_2021 = []\n",
        "date_2021 = []\n",
        "fips_2021 = []\n",
        "cases_2021 = []\n",
        "death_2021 = []\n",
        "vax_2021 = []\n",
        "pop_2021 = []\n",
        "\n",
        "cd_keys = cases_deaths_21.keys()\n",
        "for i in cd_keys:\n",
        "  for j in range(len(cases_deaths_21[i])):\n",
        "    if i in population:\n",
        "      pop = population[i]\n",
        "    else:\n",
        "      pop = 0\n",
        "    \n",
        "    date = cases_deaths_21[i][j][0]\n",
        "    cases = cases_deaths_21[i][j][1]\n",
        "    death = cases_deaths_21[i][j][2]\n",
        "    fips = i\n",
        "\n",
        "    v = 0\n",
        "\n",
        "    if i in vax_21:\n",
        "      vax_fips = vax_21[i]\n",
        "      for k in range(len(vax_fips)):\n",
        "        if vax_fips[k][0] == date:\n",
        "          v = vax_fips[k][1]\n",
        "          break\n",
        "\n",
        "    # final_array_2021.append([date, fips, cases, death, v, pop])\n",
        "    date_2021.append(date)\n",
        "    fips_2021.append(fips)\n",
        "    cases_2021.append(cases)\n",
        "    death_2021.append(death)\n",
        "    vax_2021.append(v)\n",
        "    pop_2021.append(pop)\n",
        "\n",
        "final_df_2021 = pd.DataFrame({'Date': date_2021, 'FIPS': fips_2021, \n",
        "                              'Cases': cases_2021, 'Death': death_2021, \n",
        "                              'Vaccination': vax_2021, 'Population': pop_2021})"
      ]
    },
    {
      "cell_type": "code",
      "execution_count": 93,
      "metadata": {
        "id": "Ygp9s-8C2la0"
      },
      "outputs": [],
      "source": [
        "final_array_2022 = []\n",
        "date_2022 = []\n",
        "fips_2022 = []\n",
        "cases_2022 = []\n",
        "death_2022 = []\n",
        "vax_2022 = []\n",
        "pop_2022 = []\n",
        "\n",
        "cd_keys = cases_deaths_22.keys()\n",
        "for i in cd_keys:\n",
        "  for j in range(len(cases_deaths_22[i])):\n",
        "    if i in population:\n",
        "      pop = population[i]\n",
        "    else:\n",
        "      pop = 0\n",
        "    \n",
        "    date = cases_deaths_22[i][j][0]\n",
        "    cases = cases_deaths_22[i][j][1]\n",
        "    death = cases_deaths_22[i][j][2]\n",
        "    fips = i\n",
        "\n",
        "    v = 0\n",
        "\n",
        "    if i in vax_22:\n",
        "      vax_fips = vax_22[i]\n",
        "      for k in range(len(vax_fips)):\n",
        "        if vax_fips[k][0] == date:\n",
        "          v = vax_fips[k][1]\n",
        "          break\n",
        "\n",
        "    # final_array_2022.append([date, fips, cases, death, v, pop])\n",
        "    date_2022.append(date)\n",
        "    fips_2022.append(fips)\n",
        "    cases_2022.append(cases)\n",
        "    death_2022.append(death)\n",
        "    vax_2022.append(v)\n",
        "    pop_2022.append(pop)\n",
        "\n",
        "final_df_2022 = pd.DataFrame({'Date': date_2022, 'FIPS': fips_2022, \n",
        "                              'Cases': cases_2022, 'Death': death_2022, \n",
        "                              'Vaccination': vax_2022, 'Population': pop_2022})"
      ]
    },
    {
      "cell_type": "code",
      "execution_count": 94,
      "metadata": {
        "id": "pcKLCmx63s1x"
      },
      "outputs": [],
      "source": [
        "final_df_2020.to_csv('final_df_2020.csv', index=False)\n",
        "final_df_2021.to_csv('final_df_2021.csv', index=False)\n",
        "final_df_2022.to_csv('final_df_2022.csv', index=False)"
      ]
    },
    {
      "cell_type": "code",
      "execution_count": null,
      "metadata": {
        "id": "jeFjzoKJ4LKn"
      },
      "outputs": [],
      "source": []
    }
  ],
  "metadata": {
    "colab": {
      "collapsed_sections": [],
      "name": "Create_CSV.ipynb",
      "provenance": []
    },
    "interpreter": {
      "hash": "c35a1106129fa90b8d89888af5d546fb03cea8366a89da186f444614174bd23b"
    },
    "kernelspec": {
      "display_name": "Python 3.8.8 ('env_da')",
      "language": "python",
      "name": "python3"
    },
    "language_info": {
      "codemirror_mode": {
        "name": "ipython",
        "version": 3
      },
      "file_extension": ".py",
      "mimetype": "text/x-python",
      "name": "python",
      "nbconvert_exporter": "python",
      "pygments_lexer": "ipython3",
      "version": "3.8.8"
    }
  },
  "nbformat": 4,
  "nbformat_minor": 0
}
