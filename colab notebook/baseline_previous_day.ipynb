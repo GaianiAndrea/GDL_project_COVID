{
  "nbformat": 4,
  "nbformat_minor": 0,
  "metadata": {
    "colab": {
      "name": "baseline_previous_day.ipynb",
      "provenance": [],
      "collapsed_sections": []
    },
    "kernelspec": {
      "name": "python3",
      "display_name": "Python 3"
    },
    "language_info": {
      "name": "python"
    }
  },
  "cells": [
    {
      "cell_type": "code",
      "execution_count": 1,
      "metadata": {
        "id": "wVedoKJou2KE"
      },
      "outputs": [],
      "source": [
        "import pandas as pd\n",
        "from datetime import datetime\n",
        "\n",
        "path = \"/content/\"  # THIS LINE NEEDS TO BE CHANGED BASED ON THE PATH OF THE FILES TO RETRIEVE\n",
        "\n",
        "# Import needed CSV for the dataset inlducing cases for day for fips\n",
        "final_2020 = pd.read_csv(f\"{path}final_df_2020.csv\")\n",
        "final_2021 = pd.read_csv(f\"{path}final_df_2021.csv\")\n",
        "final_2022 = pd.read_csv(f\"{path}final_df_2022.csv\")\n",
        "\n",
        "# Extrate information from dataframe and create a new dataframe with\n",
        "# column = FIPS and row = Cases per Date\n",
        "db = {}\n",
        "for index, row in final_2020.iterrows():\n",
        "  date = datetime.strptime(row['Date'], '%Y-%m-%d')\n",
        "  db[(date, (row['FIPS']))] = row['Cases']\n",
        "for index, row in final_2021.iterrows():\n",
        "  date = datetime.strptime(row['Date'], '%Y-%m-%d')\n",
        "  db[(date, (row['FIPS']))] = row['Cases']\n",
        "for index, row in final_2022.iterrows():\n",
        "  date = datetime.strptime(row['Date'], '%Y-%m-%d')\n",
        "  db[(date, (row['FIPS']))] = row['Cases']\n",
        "\n",
        "df_cases = pd.DataFrame(db.values(), index=pd.MultiIndex.from_tuples(db.keys())).unstack(1).fillna(0)[0]"
      ]
    },
    {
      "cell_type": "code",
      "source": [
        "df_cases"
      ],
      "metadata": {
        "colab": {
          "base_uri": "https://localhost:8080/",
          "height": 661
        },
        "id": "oIxoaGBzv7SH",
        "outputId": "629da8b2-e477-4adc-8358-b0bd2665f7f0"
      },
      "execution_count": 2,
      "outputs": [
        {
          "output_type": "execute_result",
          "data": {
            "text/plain": [
              "              1001     1003    1005    1007     1009    1011    1013   \\\n",
              "2020-01-21      0.0      0.0     0.0     0.0      0.0     0.0     0.0   \n",
              "2020-01-22      0.0      0.0     0.0     0.0      0.0     0.0     0.0   \n",
              "2020-01-23      0.0      0.0     0.0     0.0      0.0     0.0     0.0   \n",
              "2020-01-24      0.0      0.0     0.0     0.0      0.0     0.0     0.0   \n",
              "2020-01-25      0.0      0.0     0.0     0.0      0.0     0.0     0.0   \n",
              "...             ...      ...     ...     ...      ...     ...     ...   \n",
              "2022-04-07  15742.0  55468.0  5658.0  6421.0  14926.0  2304.0  5052.0   \n",
              "2022-04-08  15744.0  55489.0  5658.0  6422.0  14929.0  2304.0  5052.0   \n",
              "2022-04-09  15744.0  55489.0  5658.0  6422.0  14929.0  2304.0  5052.0   \n",
              "2022-04-10  15744.0  55489.0  5658.0  6422.0  14929.0  2304.0  5052.0   \n",
              "2022-04-11  15747.0  55499.0  5658.0  6425.0  14934.0  2303.0  5052.0   \n",
              "\n",
              "              1015    1017    1019   ...   72141   72143    72145  72147  \\\n",
              "2020-01-21      0.0     0.0     0.0  ...     0.0     0.0      0.0    0.0   \n",
              "2020-01-22      0.0     0.0     0.0  ...     0.0     0.0      0.0    0.0   \n",
              "2020-01-23      0.0     0.0     0.0  ...     0.0     0.0      0.0    0.0   \n",
              "2020-01-24      0.0     0.0     0.0  ...     0.0     0.0      0.0    0.0   \n",
              "2020-01-25      0.0     0.0     0.0  ...     0.0     0.0      0.0    0.0   \n",
              "...             ...     ...     ...  ...     ...     ...      ...    ...   \n",
              "2022-04-07  32355.0  8471.0  5114.0  ...  3322.0  6110.0  10231.0  713.0   \n",
              "2022-04-08  32355.0  8471.0  5115.0  ...  3329.0  6115.0  10239.0  713.0   \n",
              "2022-04-09  32355.0  8471.0  5115.0  ...  3333.0  6120.0  10242.0  713.0   \n",
              "2022-04-10  32355.0  8471.0  5115.0  ...  3336.0  6129.0  10272.0  713.0   \n",
              "2022-04-11  32359.0  8474.0  5116.0  ...  3337.0  6135.0  10275.0  713.0   \n",
              "\n",
              "             72149   72151   72153   78010  78020   78030  \n",
              "2020-01-21     0.0     0.0     0.0     0.0    0.0     0.0  \n",
              "2020-01-22     0.0     0.0     0.0     0.0    0.0     0.0  \n",
              "2020-01-23     0.0     0.0     0.0     0.0    0.0     0.0  \n",
              "2020-01-24     0.0     0.0     0.0     0.0    0.0     0.0  \n",
              "2020-01-25     0.0     0.0     0.0     0.0    0.0     0.0  \n",
              "...            ...     ...     ...     ...    ...     ...  \n",
              "2022-04-07  2965.0  4284.0  4238.0  7751.0  783.0  7206.0  \n",
              "2022-04-08  2968.0  4294.0  4240.0  7759.0  786.0  7219.0  \n",
              "2022-04-09  2972.0  4309.0  4240.0  7759.0  786.0  7219.0  \n",
              "2022-04-10  2983.0  4322.0  4257.0  7759.0  786.0  7219.0  \n",
              "2022-04-11  2983.0  4329.0  4263.0  7759.0  786.0  7219.0  \n",
              "\n",
              "[812 rows x 3220 columns]"
            ],
            "text/html": [
              "\n",
              "  <div id=\"df-e17d32a9-a634-426f-b69b-fd7181924ce0\">\n",
              "    <div class=\"colab-df-container\">\n",
              "      <div>\n",
              "<style scoped>\n",
              "    .dataframe tbody tr th:only-of-type {\n",
              "        vertical-align: middle;\n",
              "    }\n",
              "\n",
              "    .dataframe tbody tr th {\n",
              "        vertical-align: top;\n",
              "    }\n",
              "\n",
              "    .dataframe thead th {\n",
              "        text-align: right;\n",
              "    }\n",
              "</style>\n",
              "<table border=\"1\" class=\"dataframe\">\n",
              "  <thead>\n",
              "    <tr style=\"text-align: right;\">\n",
              "      <th></th>\n",
              "      <th>1001</th>\n",
              "      <th>1003</th>\n",
              "      <th>1005</th>\n",
              "      <th>1007</th>\n",
              "      <th>1009</th>\n",
              "      <th>1011</th>\n",
              "      <th>1013</th>\n",
              "      <th>1015</th>\n",
              "      <th>1017</th>\n",
              "      <th>1019</th>\n",
              "      <th>...</th>\n",
              "      <th>72141</th>\n",
              "      <th>72143</th>\n",
              "      <th>72145</th>\n",
              "      <th>72147</th>\n",
              "      <th>72149</th>\n",
              "      <th>72151</th>\n",
              "      <th>72153</th>\n",
              "      <th>78010</th>\n",
              "      <th>78020</th>\n",
              "      <th>78030</th>\n",
              "    </tr>\n",
              "  </thead>\n",
              "  <tbody>\n",
              "    <tr>\n",
              "      <th>2020-01-21</th>\n",
              "      <td>0.0</td>\n",
              "      <td>0.0</td>\n",
              "      <td>0.0</td>\n",
              "      <td>0.0</td>\n",
              "      <td>0.0</td>\n",
              "      <td>0.0</td>\n",
              "      <td>0.0</td>\n",
              "      <td>0.0</td>\n",
              "      <td>0.0</td>\n",
              "      <td>0.0</td>\n",
              "      <td>...</td>\n",
              "      <td>0.0</td>\n",
              "      <td>0.0</td>\n",
              "      <td>0.0</td>\n",
              "      <td>0.0</td>\n",
              "      <td>0.0</td>\n",
              "      <td>0.0</td>\n",
              "      <td>0.0</td>\n",
              "      <td>0.0</td>\n",
              "      <td>0.0</td>\n",
              "      <td>0.0</td>\n",
              "    </tr>\n",
              "    <tr>\n",
              "      <th>2020-01-22</th>\n",
              "      <td>0.0</td>\n",
              "      <td>0.0</td>\n",
              "      <td>0.0</td>\n",
              "      <td>0.0</td>\n",
              "      <td>0.0</td>\n",
              "      <td>0.0</td>\n",
              "      <td>0.0</td>\n",
              "      <td>0.0</td>\n",
              "      <td>0.0</td>\n",
              "      <td>0.0</td>\n",
              "      <td>...</td>\n",
              "      <td>0.0</td>\n",
              "      <td>0.0</td>\n",
              "      <td>0.0</td>\n",
              "      <td>0.0</td>\n",
              "      <td>0.0</td>\n",
              "      <td>0.0</td>\n",
              "      <td>0.0</td>\n",
              "      <td>0.0</td>\n",
              "      <td>0.0</td>\n",
              "      <td>0.0</td>\n",
              "    </tr>\n",
              "    <tr>\n",
              "      <th>2020-01-23</th>\n",
              "      <td>0.0</td>\n",
              "      <td>0.0</td>\n",
              "      <td>0.0</td>\n",
              "      <td>0.0</td>\n",
              "      <td>0.0</td>\n",
              "      <td>0.0</td>\n",
              "      <td>0.0</td>\n",
              "      <td>0.0</td>\n",
              "      <td>0.0</td>\n",
              "      <td>0.0</td>\n",
              "      <td>...</td>\n",
              "      <td>0.0</td>\n",
              "      <td>0.0</td>\n",
              "      <td>0.0</td>\n",
              "      <td>0.0</td>\n",
              "      <td>0.0</td>\n",
              "      <td>0.0</td>\n",
              "      <td>0.0</td>\n",
              "      <td>0.0</td>\n",
              "      <td>0.0</td>\n",
              "      <td>0.0</td>\n",
              "    </tr>\n",
              "    <tr>\n",
              "      <th>2020-01-24</th>\n",
              "      <td>0.0</td>\n",
              "      <td>0.0</td>\n",
              "      <td>0.0</td>\n",
              "      <td>0.0</td>\n",
              "      <td>0.0</td>\n",
              "      <td>0.0</td>\n",
              "      <td>0.0</td>\n",
              "      <td>0.0</td>\n",
              "      <td>0.0</td>\n",
              "      <td>0.0</td>\n",
              "      <td>...</td>\n",
              "      <td>0.0</td>\n",
              "      <td>0.0</td>\n",
              "      <td>0.0</td>\n",
              "      <td>0.0</td>\n",
              "      <td>0.0</td>\n",
              "      <td>0.0</td>\n",
              "      <td>0.0</td>\n",
              "      <td>0.0</td>\n",
              "      <td>0.0</td>\n",
              "      <td>0.0</td>\n",
              "    </tr>\n",
              "    <tr>\n",
              "      <th>2020-01-25</th>\n",
              "      <td>0.0</td>\n",
              "      <td>0.0</td>\n",
              "      <td>0.0</td>\n",
              "      <td>0.0</td>\n",
              "      <td>0.0</td>\n",
              "      <td>0.0</td>\n",
              "      <td>0.0</td>\n",
              "      <td>0.0</td>\n",
              "      <td>0.0</td>\n",
              "      <td>0.0</td>\n",
              "      <td>...</td>\n",
              "      <td>0.0</td>\n",
              "      <td>0.0</td>\n",
              "      <td>0.0</td>\n",
              "      <td>0.0</td>\n",
              "      <td>0.0</td>\n",
              "      <td>0.0</td>\n",
              "      <td>0.0</td>\n",
              "      <td>0.0</td>\n",
              "      <td>0.0</td>\n",
              "      <td>0.0</td>\n",
              "    </tr>\n",
              "    <tr>\n",
              "      <th>...</th>\n",
              "      <td>...</td>\n",
              "      <td>...</td>\n",
              "      <td>...</td>\n",
              "      <td>...</td>\n",
              "      <td>...</td>\n",
              "      <td>...</td>\n",
              "      <td>...</td>\n",
              "      <td>...</td>\n",
              "      <td>...</td>\n",
              "      <td>...</td>\n",
              "      <td>...</td>\n",
              "      <td>...</td>\n",
              "      <td>...</td>\n",
              "      <td>...</td>\n",
              "      <td>...</td>\n",
              "      <td>...</td>\n",
              "      <td>...</td>\n",
              "      <td>...</td>\n",
              "      <td>...</td>\n",
              "      <td>...</td>\n",
              "      <td>...</td>\n",
              "    </tr>\n",
              "    <tr>\n",
              "      <th>2022-04-07</th>\n",
              "      <td>15742.0</td>\n",
              "      <td>55468.0</td>\n",
              "      <td>5658.0</td>\n",
              "      <td>6421.0</td>\n",
              "      <td>14926.0</td>\n",
              "      <td>2304.0</td>\n",
              "      <td>5052.0</td>\n",
              "      <td>32355.0</td>\n",
              "      <td>8471.0</td>\n",
              "      <td>5114.0</td>\n",
              "      <td>...</td>\n",
              "      <td>3322.0</td>\n",
              "      <td>6110.0</td>\n",
              "      <td>10231.0</td>\n",
              "      <td>713.0</td>\n",
              "      <td>2965.0</td>\n",
              "      <td>4284.0</td>\n",
              "      <td>4238.0</td>\n",
              "      <td>7751.0</td>\n",
              "      <td>783.0</td>\n",
              "      <td>7206.0</td>\n",
              "    </tr>\n",
              "    <tr>\n",
              "      <th>2022-04-08</th>\n",
              "      <td>15744.0</td>\n",
              "      <td>55489.0</td>\n",
              "      <td>5658.0</td>\n",
              "      <td>6422.0</td>\n",
              "      <td>14929.0</td>\n",
              "      <td>2304.0</td>\n",
              "      <td>5052.0</td>\n",
              "      <td>32355.0</td>\n",
              "      <td>8471.0</td>\n",
              "      <td>5115.0</td>\n",
              "      <td>...</td>\n",
              "      <td>3329.0</td>\n",
              "      <td>6115.0</td>\n",
              "      <td>10239.0</td>\n",
              "      <td>713.0</td>\n",
              "      <td>2968.0</td>\n",
              "      <td>4294.0</td>\n",
              "      <td>4240.0</td>\n",
              "      <td>7759.0</td>\n",
              "      <td>786.0</td>\n",
              "      <td>7219.0</td>\n",
              "    </tr>\n",
              "    <tr>\n",
              "      <th>2022-04-09</th>\n",
              "      <td>15744.0</td>\n",
              "      <td>55489.0</td>\n",
              "      <td>5658.0</td>\n",
              "      <td>6422.0</td>\n",
              "      <td>14929.0</td>\n",
              "      <td>2304.0</td>\n",
              "      <td>5052.0</td>\n",
              "      <td>32355.0</td>\n",
              "      <td>8471.0</td>\n",
              "      <td>5115.0</td>\n",
              "      <td>...</td>\n",
              "      <td>3333.0</td>\n",
              "      <td>6120.0</td>\n",
              "      <td>10242.0</td>\n",
              "      <td>713.0</td>\n",
              "      <td>2972.0</td>\n",
              "      <td>4309.0</td>\n",
              "      <td>4240.0</td>\n",
              "      <td>7759.0</td>\n",
              "      <td>786.0</td>\n",
              "      <td>7219.0</td>\n",
              "    </tr>\n",
              "    <tr>\n",
              "      <th>2022-04-10</th>\n",
              "      <td>15744.0</td>\n",
              "      <td>55489.0</td>\n",
              "      <td>5658.0</td>\n",
              "      <td>6422.0</td>\n",
              "      <td>14929.0</td>\n",
              "      <td>2304.0</td>\n",
              "      <td>5052.0</td>\n",
              "      <td>32355.0</td>\n",
              "      <td>8471.0</td>\n",
              "      <td>5115.0</td>\n",
              "      <td>...</td>\n",
              "      <td>3336.0</td>\n",
              "      <td>6129.0</td>\n",
              "      <td>10272.0</td>\n",
              "      <td>713.0</td>\n",
              "      <td>2983.0</td>\n",
              "      <td>4322.0</td>\n",
              "      <td>4257.0</td>\n",
              "      <td>7759.0</td>\n",
              "      <td>786.0</td>\n",
              "      <td>7219.0</td>\n",
              "    </tr>\n",
              "    <tr>\n",
              "      <th>2022-04-11</th>\n",
              "      <td>15747.0</td>\n",
              "      <td>55499.0</td>\n",
              "      <td>5658.0</td>\n",
              "      <td>6425.0</td>\n",
              "      <td>14934.0</td>\n",
              "      <td>2303.0</td>\n",
              "      <td>5052.0</td>\n",
              "      <td>32359.0</td>\n",
              "      <td>8474.0</td>\n",
              "      <td>5116.0</td>\n",
              "      <td>...</td>\n",
              "      <td>3337.0</td>\n",
              "      <td>6135.0</td>\n",
              "      <td>10275.0</td>\n",
              "      <td>713.0</td>\n",
              "      <td>2983.0</td>\n",
              "      <td>4329.0</td>\n",
              "      <td>4263.0</td>\n",
              "      <td>7759.0</td>\n",
              "      <td>786.0</td>\n",
              "      <td>7219.0</td>\n",
              "    </tr>\n",
              "  </tbody>\n",
              "</table>\n",
              "<p>812 rows × 3220 columns</p>\n",
              "</div>\n",
              "      <button class=\"colab-df-convert\" onclick=\"convertToInteractive('df-e17d32a9-a634-426f-b69b-fd7181924ce0')\"\n",
              "              title=\"Convert this dataframe to an interactive table.\"\n",
              "              style=\"display:none;\">\n",
              "        \n",
              "  <svg xmlns=\"http://www.w3.org/2000/svg\" height=\"24px\"viewBox=\"0 0 24 24\"\n",
              "       width=\"24px\">\n",
              "    <path d=\"M0 0h24v24H0V0z\" fill=\"none\"/>\n",
              "    <path d=\"M18.56 5.44l.94 2.06.94-2.06 2.06-.94-2.06-.94-.94-2.06-.94 2.06-2.06.94zm-11 1L8.5 8.5l.94-2.06 2.06-.94-2.06-.94L8.5 2.5l-.94 2.06-2.06.94zm10 10l.94 2.06.94-2.06 2.06-.94-2.06-.94-.94-2.06-.94 2.06-2.06.94z\"/><path d=\"M17.41 7.96l-1.37-1.37c-.4-.4-.92-.59-1.43-.59-.52 0-1.04.2-1.43.59L10.3 9.45l-7.72 7.72c-.78.78-.78 2.05 0 2.83L4 21.41c.39.39.9.59 1.41.59.51 0 1.02-.2 1.41-.59l7.78-7.78 2.81-2.81c.8-.78.8-2.07 0-2.86zM5.41 20L4 18.59l7.72-7.72 1.47 1.35L5.41 20z\"/>\n",
              "  </svg>\n",
              "      </button>\n",
              "      \n",
              "  <style>\n",
              "    .colab-df-container {\n",
              "      display:flex;\n",
              "      flex-wrap:wrap;\n",
              "      gap: 12px;\n",
              "    }\n",
              "\n",
              "    .colab-df-convert {\n",
              "      background-color: #E8F0FE;\n",
              "      border: none;\n",
              "      border-radius: 50%;\n",
              "      cursor: pointer;\n",
              "      display: none;\n",
              "      fill: #1967D2;\n",
              "      height: 32px;\n",
              "      padding: 0 0 0 0;\n",
              "      width: 32px;\n",
              "    }\n",
              "\n",
              "    .colab-df-convert:hover {\n",
              "      background-color: #E2EBFA;\n",
              "      box-shadow: 0px 1px 2px rgba(60, 64, 67, 0.3), 0px 1px 3px 1px rgba(60, 64, 67, 0.15);\n",
              "      fill: #174EA6;\n",
              "    }\n",
              "\n",
              "    [theme=dark] .colab-df-convert {\n",
              "      background-color: #3B4455;\n",
              "      fill: #D2E3FC;\n",
              "    }\n",
              "\n",
              "    [theme=dark] .colab-df-convert:hover {\n",
              "      background-color: #434B5C;\n",
              "      box-shadow: 0px 1px 3px 1px rgba(0, 0, 0, 0.15);\n",
              "      filter: drop-shadow(0px 1px 2px rgba(0, 0, 0, 0.3));\n",
              "      fill: #FFFFFF;\n",
              "    }\n",
              "  </style>\n",
              "\n",
              "      <script>\n",
              "        const buttonEl =\n",
              "          document.querySelector('#df-e17d32a9-a634-426f-b69b-fd7181924ce0 button.colab-df-convert');\n",
              "        buttonEl.style.display =\n",
              "          google.colab.kernel.accessAllowed ? 'block' : 'none';\n",
              "\n",
              "        async function convertToInteractive(key) {\n",
              "          const element = document.querySelector('#df-e17d32a9-a634-426f-b69b-fd7181924ce0');\n",
              "          const dataTable =\n",
              "            await google.colab.kernel.invokeFunction('convertToInteractive',\n",
              "                                                     [key], {});\n",
              "          if (!dataTable) return;\n",
              "\n",
              "          const docLinkHtml = 'Like what you see? Visit the ' +\n",
              "            '<a target=\"_blank\" href=https://colab.research.google.com/notebooks/data_table.ipynb>data table notebook</a>'\n",
              "            + ' to learn more about interactive tables.';\n",
              "          element.innerHTML = '';\n",
              "          dataTable['output_type'] = 'display_data';\n",
              "          await google.colab.output.renderOutput(dataTable, element);\n",
              "          const docLink = document.createElement('div');\n",
              "          docLink.innerHTML = docLinkHtml;\n",
              "          element.appendChild(docLink);\n",
              "        }\n",
              "      </script>\n",
              "    </div>\n",
              "  </div>\n",
              "  "
            ]
          },
          "metadata": {},
          "execution_count": 2
        }
      ]
    },
    {
      "cell_type": "code",
      "source": [
        "cases = df_cases.to_numpy()\n",
        "cases"
      ],
      "metadata": {
        "colab": {
          "base_uri": "https://localhost:8080/"
        },
        "id": "mMohnfr_zQss",
        "outputId": "a671576a-f043-4f2c-ada2-e824558bf115"
      },
      "execution_count": 3,
      "outputs": [
        {
          "output_type": "execute_result",
          "data": {
            "text/plain": [
              "array([[    0.,     0.,     0., ...,     0.,     0.,     0.],\n",
              "       [    0.,     0.,     0., ...,     0.,     0.,     0.],\n",
              "       [    0.,     0.,     0., ...,     0.,     0.,     0.],\n",
              "       ...,\n",
              "       [15744., 55489.,  5658., ...,  7759.,   786.,  7219.],\n",
              "       [15744., 55489.,  5658., ...,  7759.,   786.,  7219.],\n",
              "       [15747., 55499.,  5658., ...,  7759.,   786.,  7219.]])"
            ]
          },
          "metadata": {},
          "execution_count": 3
        }
      ]
    },
    {
      "cell_type": "code",
      "source": [
        "cases.shape"
      ],
      "metadata": {
        "colab": {
          "base_uri": "https://localhost:8080/"
        },
        "id": "FU1mtRAU2MhF",
        "outputId": "48549cc4-db23-430c-e613-0496016740b6"
      },
      "execution_count": 4,
      "outputs": [
        {
          "output_type": "execute_result",
          "data": {
            "text/plain": [
              "(812, 3220)"
            ]
          },
          "metadata": {},
          "execution_count": 4
        }
      ]
    },
    {
      "cell_type": "code",
      "source": [
        "cases[1:,:] # cases"
      ],
      "metadata": {
        "colab": {
          "base_uri": "https://localhost:8080/"
        },
        "id": "1HoYXvMP6OzJ",
        "outputId": "2144f5d5-bd11-4052-bcc9-bfa756df7794"
      },
      "execution_count": 5,
      "outputs": [
        {
          "output_type": "execute_result",
          "data": {
            "text/plain": [
              "array([[    0.,     0.,     0., ...,     0.,     0.,     0.],\n",
              "       [    0.,     0.,     0., ...,     0.,     0.,     0.],\n",
              "       [    0.,     0.,     0., ...,     0.,     0.,     0.],\n",
              "       ...,\n",
              "       [15744., 55489.,  5658., ...,  7759.,   786.,  7219.],\n",
              "       [15744., 55489.,  5658., ...,  7759.,   786.,  7219.],\n",
              "       [15747., 55499.,  5658., ...,  7759.,   786.,  7219.]])"
            ]
          },
          "metadata": {},
          "execution_count": 5
        }
      ]
    },
    {
      "cell_type": "code",
      "source": [
        "cases[:-1,:] # previous days "
      ],
      "metadata": {
        "colab": {
          "base_uri": "https://localhost:8080/"
        },
        "id": "l9rj9U0FBX23",
        "outputId": "0540afb9-4fc1-457f-ad42-96a8056ccba4"
      },
      "execution_count": 6,
      "outputs": [
        {
          "output_type": "execute_result",
          "data": {
            "text/plain": [
              "array([[    0.,     0.,     0., ...,     0.,     0.,     0.],\n",
              "       [    0.,     0.,     0., ...,     0.,     0.,     0.],\n",
              "       [    0.,     0.,     0., ...,     0.,     0.,     0.],\n",
              "       ...,\n",
              "       [15744., 55489.,  5658., ...,  7759.,   786.,  7219.],\n",
              "       [15744., 55489.,  5658., ...,  7759.,   786.,  7219.],\n",
              "       [15744., 55489.,  5658., ...,  7759.,   786.,  7219.]])"
            ]
          },
          "metadata": {},
          "execution_count": 6
        }
      ]
    },
    {
      "cell_type": "code",
      "source": [
        "# PREVIOUS CASES: the difference of cases between a day and the next is zero. \n",
        "# We predict to have the same number of cases in t w.r.t. t-1\n",
        "real_cases    = cases[1:,:]\n",
        "prev_day_pred = cases[:-1,:]"
      ],
      "metadata": {
        "id": "kgR7GfQr5tKU"
      },
      "execution_count": 7,
      "outputs": []
    },
    {
      "cell_type": "code",
      "source": [
        "real_cases"
      ],
      "metadata": {
        "colab": {
          "base_uri": "https://localhost:8080/"
        },
        "id": "gRv45DBE2Ugw",
        "outputId": "346f9219-4746-435f-d312-87fb9bb04fe6"
      },
      "execution_count": 8,
      "outputs": [
        {
          "output_type": "execute_result",
          "data": {
            "text/plain": [
              "array([[    0.,     0.,     0., ...,     0.,     0.,     0.],\n",
              "       [    0.,     0.,     0., ...,     0.,     0.,     0.],\n",
              "       [    0.,     0.,     0., ...,     0.,     0.,     0.],\n",
              "       ...,\n",
              "       [15744., 55489.,  5658., ...,  7759.,   786.,  7219.],\n",
              "       [15744., 55489.,  5658., ...,  7759.,   786.,  7219.],\n",
              "       [15747., 55499.,  5658., ...,  7759.,   786.,  7219.]])"
            ]
          },
          "metadata": {},
          "execution_count": 8
        }
      ]
    },
    {
      "cell_type": "code",
      "source": [
        "prev_day_pred"
      ],
      "metadata": {
        "colab": {
          "base_uri": "https://localhost:8080/"
        },
        "id": "KktDQom3D8v9",
        "outputId": "3db7a993-77fe-4dbb-ff70-17bf3aebf610"
      },
      "execution_count": 9,
      "outputs": [
        {
          "output_type": "execute_result",
          "data": {
            "text/plain": [
              "array([[    0.,     0.,     0., ...,     0.,     0.,     0.],\n",
              "       [    0.,     0.,     0., ...,     0.,     0.,     0.],\n",
              "       [    0.,     0.,     0., ...,     0.,     0.,     0.],\n",
              "       ...,\n",
              "       [15744., 55489.,  5658., ...,  7759.,   786.,  7219.],\n",
              "       [15744., 55489.,  5658., ...,  7759.,   786.,  7219.],\n",
              "       [15744., 55489.,  5658., ...,  7759.,   786.,  7219.]])"
            ]
          },
          "metadata": {},
          "execution_count": 9
        }
      ]
    },
    {
      "cell_type": "code",
      "source": [
        "prev_day_pred.shape"
      ],
      "metadata": {
        "colab": {
          "base_uri": "https://localhost:8080/"
        },
        "id": "bzoRU5kI2nGd",
        "outputId": "16eaba95-fa61-445e-f9d2-5c5909e6cc4c"
      },
      "execution_count": 10,
      "outputs": [
        {
          "output_type": "execute_result",
          "data": {
            "text/plain": [
              "(811, 3220)"
            ]
          },
          "metadata": {},
          "execution_count": 10
        }
      ]
    },
    {
      "cell_type": "code",
      "source": [
        "real_cases.shape"
      ],
      "metadata": {
        "colab": {
          "base_uri": "https://localhost:8080/"
        },
        "id": "-Gxs9Hz1C-JP",
        "outputId": "259bf7e7-240a-49c8-9b2c-35e4bbe9e897"
      },
      "execution_count": 11,
      "outputs": [
        {
          "output_type": "execute_result",
          "data": {
            "text/plain": [
              "(811, 3220)"
            ]
          },
          "metadata": {},
          "execution_count": 11
        }
      ]
    },
    {
      "cell_type": "code",
      "source": [
        "from sklearn.metrics import mean_absolute_percentage_error\n",
        "\n",
        "n = real_cases.shape[0]*real_cases.shape[1]\n",
        "\n",
        "def mape(y_hat, y):\n",
        "    return 100 * np.abs((y - y_hat) / (y + 5e-8)).mean()\n",
        "\n",
        "def mape1(y_hat, y, n):\n",
        "  return 100/n *np.sum((np.abs((y - y_hat)/(y + 5e-8))))\n",
        "\n",
        "def mae(y_hat, y):\n",
        "  return np.abs(y - y_hat).mean()"
      ],
      "metadata": {
        "id": "j3uq__4GEdkr"
      },
      "execution_count": 19,
      "outputs": []
    },
    {
      "cell_type": "code",
      "source": [
        "mape(prev_day_pred, real_cases)"
      ],
      "metadata": {
        "colab": {
          "base_uri": "https://localhost:8080/"
        },
        "id": "5iKO21-bEM69",
        "outputId": "7f631c62-9e06-4281-bc99-3eef3dca804f"
      },
      "execution_count": 20,
      "outputs": [
        {
          "output_type": "execute_result",
          "data": {
            "text/plain": [
              "12255.0133334102"
            ]
          },
          "metadata": {},
          "execution_count": 20
        }
      ]
    },
    {
      "cell_type": "code",
      "source": [
        "mape1(prev_day_pred, real_cases, n)"
      ],
      "metadata": {
        "colab": {
          "base_uri": "https://localhost:8080/"
        },
        "id": "oaf4Z3WAUeIs",
        "outputId": "a5aea6b0-b97c-4014-efe6-831c88f30136"
      },
      "execution_count": 21,
      "outputs": [
        {
          "output_type": "execute_result",
          "data": {
            "text/plain": [
              "12255.013333410201"
            ]
          },
          "metadata": {},
          "execution_count": 21
        }
      ]
    },
    {
      "cell_type": "code",
      "source": [
        "mae(prev_day_pred, real_cases)"
      ],
      "metadata": {
        "colab": {
          "base_uri": "https://localhost:8080/"
        },
        "id": "yt-EnicbUmNf",
        "outputId": "5ca39263-0dbd-4851-868b-a95890f822fa"
      },
      "execution_count": 23,
      "outputs": [
        {
          "output_type": "execute_result",
          "data": {
            "text/plain": [
              "29.941452543060862"
            ]
          },
          "metadata": {},
          "execution_count": 23
        }
      ]
    },
    {
      "cell_type": "code",
      "source": [
        "# PREVIOUS DELTA: we predict that the delta in the number of cases will be the same as the delta from the previous day. \n",
        "cur_day  = cases[1:,:]\n",
        "prev_day = cases[:-1,:]\n",
        "delta = cur_day - prev_day"
      ],
      "metadata": {
        "id": "FkaX6VYEPA9c"
      },
      "execution_count": 24,
      "outputs": []
    },
    {
      "cell_type": "code",
      "source": [
        "cases"
      ],
      "metadata": {
        "colab": {
          "base_uri": "https://localhost:8080/"
        },
        "id": "Ir8GL87sdPcK",
        "outputId": "bf1eb37c-4c8d-42b7-e9ad-a59d9d6e6737"
      },
      "execution_count": 25,
      "outputs": [
        {
          "output_type": "execute_result",
          "data": {
            "text/plain": [
              "array([[    0.,     0.,     0., ...,     0.,     0.,     0.],\n",
              "       [    0.,     0.,     0., ...,     0.,     0.,     0.],\n",
              "       [    0.,     0.,     0., ...,     0.,     0.,     0.],\n",
              "       ...,\n",
              "       [15744., 55489.,  5658., ...,  7759.,   786.,  7219.],\n",
              "       [15744., 55489.,  5658., ...,  7759.,   786.,  7219.],\n",
              "       [15747., 55499.,  5658., ...,  7759.,   786.,  7219.]])"
            ]
          },
          "metadata": {},
          "execution_count": 25
        }
      ]
    },
    {
      "cell_type": "code",
      "source": [
        "cur_day"
      ],
      "metadata": {
        "colab": {
          "base_uri": "https://localhost:8080/"
        },
        "id": "aJaxXkBOdSV6",
        "outputId": "3f6fb4e7-9402-4570-87e9-ccc86c5bc86a"
      },
      "execution_count": 26,
      "outputs": [
        {
          "output_type": "execute_result",
          "data": {
            "text/plain": [
              "array([[    0.,     0.,     0., ...,     0.,     0.,     0.],\n",
              "       [    0.,     0.,     0., ...,     0.,     0.,     0.],\n",
              "       [    0.,     0.,     0., ...,     0.,     0.,     0.],\n",
              "       ...,\n",
              "       [15744., 55489.,  5658., ...,  7759.,   786.,  7219.],\n",
              "       [15744., 55489.,  5658., ...,  7759.,   786.,  7219.],\n",
              "       [15747., 55499.,  5658., ...,  7759.,   786.,  7219.]])"
            ]
          },
          "metadata": {},
          "execution_count": 26
        }
      ]
    },
    {
      "cell_type": "code",
      "source": [
        "prev_day"
      ],
      "metadata": {
        "colab": {
          "base_uri": "https://localhost:8080/"
        },
        "id": "4v7Qw8fffP3x",
        "outputId": "f7a2647f-a312-485a-8baf-1662b818227f"
      },
      "execution_count": 27,
      "outputs": [
        {
          "output_type": "execute_result",
          "data": {
            "text/plain": [
              "array([[    0.,     0.,     0., ...,     0.,     0.,     0.],\n",
              "       [    0.,     0.,     0., ...,     0.,     0.,     0.],\n",
              "       [    0.,     0.,     0., ...,     0.,     0.,     0.],\n",
              "       ...,\n",
              "       [15744., 55489.,  5658., ...,  7759.,   786.,  7219.],\n",
              "       [15744., 55489.,  5658., ...,  7759.,   786.,  7219.],\n",
              "       [15744., 55489.,  5658., ...,  7759.,   786.,  7219.]])"
            ]
          },
          "metadata": {},
          "execution_count": 27
        }
      ]
    },
    {
      "cell_type": "code",
      "source": [
        "delta"
      ],
      "metadata": {
        "colab": {
          "base_uri": "https://localhost:8080/"
        },
        "id": "9b43lztKfRGM",
        "outputId": "76ad890d-471e-4cec-d0dd-6323e4d348b3"
      },
      "execution_count": 28,
      "outputs": [
        {
          "output_type": "execute_result",
          "data": {
            "text/plain": [
              "array([[ 0.,  0.,  0., ...,  0.,  0.,  0.],\n",
              "       [ 0.,  0.,  0., ...,  0.,  0.,  0.],\n",
              "       [ 0.,  0.,  0., ...,  0.,  0.,  0.],\n",
              "       ...,\n",
              "       [ 0.,  0.,  0., ...,  0.,  0.,  0.],\n",
              "       [ 0.,  0.,  0., ...,  0.,  0.,  0.],\n",
              "       [ 3., 10.,  0., ...,  0.,  0.,  0.]])"
            ]
          },
          "metadata": {},
          "execution_count": 28
        }
      ]
    },
    {
      "cell_type": "code",
      "source": [
        "next_day_pred = cur_day + delta\n",
        "next_day_pred = next_day_pred[:-1,:]\n",
        "next_day_pred"
      ],
      "metadata": {
        "colab": {
          "base_uri": "https://localhost:8080/"
        },
        "id": "XH0Rs-8Jf4qP",
        "outputId": "1c9b73eb-a5c6-4d57-be52-c91f8aae8527"
      },
      "execution_count": 29,
      "outputs": [
        {
          "output_type": "execute_result",
          "data": {
            "text/plain": [
              "array([[    0.,     0.,     0., ...,     0.,     0.,     0.],\n",
              "       [    0.,     0.,     0., ...,     0.,     0.,     0.],\n",
              "       [    0.,     0.,     0., ...,     0.,     0.,     0.],\n",
              "       ...,\n",
              "       [15746., 55510.,  5658., ...,  7767.,   789.,  7232.],\n",
              "       [15744., 55489.,  5658., ...,  7759.,   786.,  7219.],\n",
              "       [15744., 55489.,  5658., ...,  7759.,   786.,  7219.]])"
            ]
          },
          "metadata": {},
          "execution_count": 29
        }
      ]
    },
    {
      "cell_type": "code",
      "source": [
        "next_day_pred.shape"
      ],
      "metadata": {
        "colab": {
          "base_uri": "https://localhost:8080/"
        },
        "id": "-eylIXKhfYpk",
        "outputId": "a684b4c2-5b2b-4b36-c2bc-dc977705e958"
      },
      "execution_count": 30,
      "outputs": [
        {
          "output_type": "execute_result",
          "data": {
            "text/plain": [
              "(810, 3220)"
            ]
          },
          "metadata": {},
          "execution_count": 30
        }
      ]
    },
    {
      "cell_type": "code",
      "source": [
        "true_val = cur_day[1:, :]\n",
        "true_val"
      ],
      "metadata": {
        "colab": {
          "base_uri": "https://localhost:8080/"
        },
        "id": "ygKGQB-4iuV8",
        "outputId": "617da020-3ea8-4b51-860a-93bbee886610"
      },
      "execution_count": 31,
      "outputs": [
        {
          "output_type": "execute_result",
          "data": {
            "text/plain": [
              "array([[    0.,     0.,     0., ...,     0.,     0.,     0.],\n",
              "       [    0.,     0.,     0., ...,     0.,     0.,     0.],\n",
              "       [    0.,     0.,     0., ...,     0.,     0.,     0.],\n",
              "       ...,\n",
              "       [15744., 55489.,  5658., ...,  7759.,   786.,  7219.],\n",
              "       [15744., 55489.,  5658., ...,  7759.,   786.,  7219.],\n",
              "       [15747., 55499.,  5658., ...,  7759.,   786.,  7219.]])"
            ]
          },
          "metadata": {},
          "execution_count": 31
        }
      ]
    },
    {
      "cell_type": "code",
      "source": [
        "true_val.shape"
      ],
      "metadata": {
        "colab": {
          "base_uri": "https://localhost:8080/"
        },
        "id": "I18p7CBMl1em",
        "outputId": "0b98de2a-7e25-428c-8dc3-75af4ef20a12"
      },
      "execution_count": 32,
      "outputs": [
        {
          "output_type": "execute_result",
          "data": {
            "text/plain": [
              "(810, 3220)"
            ]
          },
          "metadata": {},
          "execution_count": 32
        }
      ]
    },
    {
      "cell_type": "code",
      "source": [
        "mape(next_day_pred, true_val)"
      ],
      "metadata": {
        "colab": {
          "base_uri": "https://localhost:8080/"
        },
        "id": "nkqFuqkBmkBr",
        "outputId": "fc61007f-72d8-4d4c-9edf-37fb9c78c634"
      },
      "execution_count": 33,
      "outputs": [
        {
          "output_type": "execute_result",
          "data": {
            "text/plain": [
              "24539.34807289529"
            ]
          },
          "metadata": {},
          "execution_count": 33
        }
      ]
    },
    {
      "cell_type": "code",
      "source": [
        "mape1(next_day_pred, true_val, 810*3220)"
      ],
      "metadata": {
        "colab": {
          "base_uri": "https://localhost:8080/"
        },
        "id": "lL2ACdkRm9Md",
        "outputId": "a898f01d-9790-4711-95d1-d709ff39a3bd"
      },
      "execution_count": 35,
      "outputs": [
        {
          "output_type": "execute_result",
          "data": {
            "text/plain": [
              "24539.348072895285"
            ]
          },
          "metadata": {},
          "execution_count": 35
        }
      ]
    },
    {
      "cell_type": "code",
      "source": [
        "mae(next_day_pred, true_val)"
      ],
      "metadata": {
        "id": "MrRF2maTnIyU",
        "colab": {
          "base_uri": "https://localhost:8080/"
        },
        "outputId": "189af0a7-2d82-40f7-937c-aac29c7ac91a"
      },
      "execution_count": 36,
      "outputs": [
        {
          "output_type": "execute_result",
          "data": {
            "text/plain": [
              "25.033098305344684"
            ]
          },
          "metadata": {},
          "execution_count": 36
        }
      ]
    },
    {
      "cell_type": "code",
      "source": [
        ""
      ],
      "metadata": {
        "id": "1sSGcEUlWESW"
      },
      "execution_count": null,
      "outputs": []
    }
  ]
}